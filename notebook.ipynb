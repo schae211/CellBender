{
 "cells": [
  {
   "cell_type": "code",
   "execution_count": null,
   "metadata": {},
   "outputs": [],
   "source": [
    "import torch\n",
    "import scanpy as sc\n",
    "import numpy as np\n",
    "from dataset import SingleCellRNACountsDataset\n",
    "from dataprep import prep_sparse_data_for_training as prep_data_for_training\n",
    "from encoder import EncodeZ, CompositeEncoder, EncodeNonZLatents\n",
    "from decoder import Decoder\n",
    "from train import run_training\n",
    "from model import RemoveBackgroundPyroModel\n",
    "import pyro\n",
    "from pyro.infer import SVI, TraceEnum_ELBO, Trace_ELBO\n",
    "import consts as consts\n",
    "from pathlib import Path\n",
    "import scipy.sparse as sp"
   ]
  },
  {
   "cell_type": "code",
   "execution_count": null,
   "metadata": {},
   "outputs": [],
   "source": [
    "use_cuda = True\n",
    "device = torch.device(\"cuda\" if use_cuda else \"cpu\")"
   ]
  },
  {
   "cell_type": "code",
   "execution_count": null,
   "metadata": {},
   "outputs": [],
   "source": [
    "# to change here!\n",
    "current_dir = globals()['_dh'][0]\n",
    "# current_dir = Path(__file__).parent"
   ]
  },
  {
   "cell_type": "code",
   "execution_count": null,
   "metadata": {},
   "outputs": [],
   "source": [
    "model_type = \"full\"\n",
    "fraction_empties = 0.5\n",
    "expected_cell_count = 5_000\n",
    "total_droplet_barcodes = 25_000\n",
    "fpr = 0.01\n",
    "low_count_threshold = 15"
   ]
  },
  {
   "cell_type": "code",
   "execution_count": null,
   "metadata": {},
   "outputs": [],
   "source": [
    "adata = sc.read_10x_h5(current_dir / \"..\" / \"example_data\" / \"MS466\" / \"raw_feature_bc_matrix.h5\")"
   ]
  },
  {
   "cell_type": "code",
   "execution_count": null,
   "metadata": {},
   "outputs": [],
   "source": [
    "data = {\n",
    "    'matrix': sp.csr_matrix(adata.X),\n",
    "    'barcodes':np.array(adata.obs_names, dtype=str),\n",
    "    'gene_names': np.array(adata.var_names, dtype=str),\n",
    "    'gene_ids': None,\n",
    "    'feature_types': None\n",
    "}"
   ]
  },
  {
   "cell_type": "code",
   "execution_count": null,
   "metadata": {},
   "outputs": [],
   "source": [
    "# here we also compute all the priors\n",
    "dataset_obj = SingleCellRNACountsDataset(\n",
    "    data=data,\n",
    "    model_name=model_type,\n",
    "    low_count_threshold=low_count_threshold,\n",
    "    fpr=fpr,\n",
    "    expected_cell_count=expected_cell_count,\n",
    "    total_droplet_barcodes=total_droplet_barcodes, \n",
    "    fraction_empties=fraction_empties\n",
    ")\n",
    "dataset_obj"
   ]
  },
  {
   "cell_type": "code",
   "execution_count": null,
   "metadata": {},
   "outputs": [],
   "source": [
    "dataset_obj.priors"
   ]
  },
  {
   "cell_type": "code",
   "execution_count": null,
   "metadata": {},
   "outputs": [],
   "source": [
    "count_matrix = dataset_obj.get_count_matrix()\n",
    "# Configure pyro options (skip validations to improve speed).\n",
    "pyro.enable_validation(False)\n",
    "pyro.distributions.enable_validation(False)"
   ]
  },
  {
   "cell_type": "code",
   "execution_count": null,
   "metadata": {},
   "outputs": [],
   "source": [
    "# Load the dataset into DataLoaders.\n",
    "frac = 1  # Fraction of barcodes to use for training\n",
    "batch_size = int(min(300, frac * dataset_obj.analyzed_barcode_inds.size / 2))\n",
    "batch_size"
   ]
  },
  {
   "cell_type": "code",
   "execution_count": null,
   "metadata": {},
   "outputs": [],
   "source": [
    "use_cuda = True\n",
    "z_hidden_dims = [100]\n",
    "d_hidden_dims = [10, 2]\n",
    "p_hidden_dims = [100, 10]\n",
    "z_dim = 10"
   ]
  },
  {
   "cell_type": "code",
   "execution_count": null,
   "metadata": {},
   "outputs": [],
   "source": [
    "fraction_empties = 0.5"
   ]
  },
  {
   "cell_type": "code",
   "execution_count": null,
   "metadata": {},
   "outputs": [],
   "source": [
    "learning_rate = 1e-4\n",
    "epochs = 150"
   ]
  },
  {
   "cell_type": "code",
   "execution_count": null,
   "metadata": {},
   "outputs": [],
   "source": [
    "# Set up encode\n",
    "encoder_z = EncodeZ(input_dim=count_matrix.shape[1],\n",
    "                    hidden_dims=z_hidden_dims,\n",
    "                    output_dim=z_dim,\n",
    "                    input_transform='normalize')\n",
    "\n",
    "encoder_other = EncodeNonZLatents(n_genes=count_matrix.shape[1],\n",
    "                                    z_dim=z_dim,\n",
    "                                    hidden_dims=consts.ENC_HIDDEN_DIMS,\n",
    "                                    log_count_crossover=dataset_obj.priors['log_counts_crossover'],\n",
    "                                    prior_log_cell_counts=np.log1p(dataset_obj.priors['cell_counts']),\n",
    "                                    input_transform='normalize')\n",
    "\n",
    "encoder = CompositeEncoder({'z': encoder_z,\n",
    "                            'other': encoder_other})"
   ]
  },
  {
   "cell_type": "code",
   "execution_count": null,
   "metadata": {},
   "outputs": [],
   "source": [
    "test_X = torch.from_numpy(np.asarray(count_matrix.todense().astype(np.float32)))\n",
    "encoder_z.forward(test_X)"
   ]
  },
  {
   "cell_type": "code",
   "execution_count": null,
   "metadata": {},
   "outputs": [],
   "source": [
    "# setu p decoder\n",
    "decoder = Decoder(input_dim=z_dim,\n",
    "                    hidden_dims=z_hidden_dims[::-1],\n",
    "                    output_dim=count_matrix.shape[1])"
   ]
  },
  {
   "cell_type": "code",
   "execution_count": null,
   "metadata": {},
   "outputs": [],
   "source": [
    "# set up the model\n",
    "model = RemoveBackgroundPyroModel(model_type=\"full\",\n",
    "                                  encoder=encoder,\n",
    "                                  decoder=decoder,\n",
    "                                  dataset_obj=dataset_obj,\n",
    "                                  use_cuda=use_cuda)\n",
    "model"
   ]
  },
  {
   "cell_type": "code",
   "execution_count": null,
   "metadata": {},
   "outputs": [],
   "source": [
    "# set up train and test loader\n",
    "train_loader, test_loader = \\\n",
    "    prep_data_for_training(dataset=count_matrix,\n",
    "                            empty_drop_dataset=dataset_obj.get_count_matrix_empties(),\n",
    "                            random_state=dataset_obj.random,\n",
    "                            batch_size=batch_size,\n",
    "                            training_fraction=frac,\n",
    "                            fraction_empties=fraction_empties,\n",
    "                            shuffle=True,\n",
    "                            use_cuda=use_cuda)"
   ]
  },
  {
   "cell_type": "code",
   "execution_count": null,
   "metadata": {},
   "outputs": [],
   "source": [
    "# Set up the optimizer.\n",
    "optimizer = pyro.optim.clipped_adam.ClippedAdam\n",
    "optimizer_args = {'lr': learning_rate, 'clip_norm': 10.}\n",
    "optimizer"
   ]
  },
  {
   "cell_type": "code",
   "execution_count": null,
   "metadata": {},
   "outputs": [],
   "source": [
    "# Set up a learning rate scheduler.\n",
    "minibatches_per_epoch = int(np.ceil(len(train_loader) / train_loader.batch_size).item())\n",
    "scheduler_args = {'optimizer': optimizer,\n",
    "                    'max_lr': learning_rate * 10,\n",
    "                    'steps_per_epoch': minibatches_per_epoch,\n",
    "                    'epochs': epochs,\n",
    "                    'optim_args': optimizer_args}\n",
    "scheduler = pyro.optim.OneCycleLR(scheduler_args)"
   ]
  },
  {
   "cell_type": "code",
   "execution_count": null,
   "metadata": {},
   "outputs": [],
   "source": [
    "model.model_type"
   ]
  },
  {
   "cell_type": "code",
   "execution_count": null,
   "metadata": {},
   "outputs": [],
   "source": [
    "if model.model_type == \"simple\":\n",
    "    loss_function = Trace_ELBO()\n",
    "else:\n",
    "    loss_function = TraceEnum_ELBO(max_plate_nesting=1)\n",
    "loss_function"
   ]
  },
  {
   "cell_type": "code",
   "execution_count": null,
   "metadata": {},
   "outputs": [],
   "source": [
    "svi = SVI(model.model, model.guide, scheduler, loss=loss_function)\n",
    "svi"
   ]
  },
  {
   "cell_type": "code",
   "execution_count": null,
   "metadata": {},
   "outputs": [],
   "source": [
    "train_elbo, test_elbo, succeeded = run_training(model, svi, train_loader, test_loader,\n",
    "                                                epochs=epochs, test_freq=5,\n",
    "                                                final_elbo_fail_fraction=None,\n",
    "                                                epoch_elbo_fail_fraction=None)"
   ]
  },
  {
   "cell_type": "code",
   "execution_count": null,
   "metadata": {},
   "outputs": [],
   "source": []
  },
  {
   "cell_type": "code",
   "execution_count": null,
   "metadata": {},
   "outputs": [],
   "source": []
  },
  {
   "cell_type": "code",
   "execution_count": null,
   "metadata": {},
   "outputs": [],
   "source": []
  }
 ],
 "metadata": {
  "kernelspec": {
   "display_name": "torch_env2",
   "language": "python",
   "name": "python3"
  },
  "language_info": {
   "codemirror_mode": {
    "name": "ipython",
    "version": 3
   },
   "file_extension": ".py",
   "mimetype": "text/x-python",
   "name": "python",
   "nbconvert_exporter": "python",
   "pygments_lexer": "ipython3",
   "version": "3.9.12"
  },
  "orig_nbformat": 4
 },
 "nbformat": 4,
 "nbformat_minor": 2
}
